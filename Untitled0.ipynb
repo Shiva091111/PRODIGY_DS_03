{
  "nbformat": 4,
  "nbformat_minor": 0,
  "metadata": {
    "colab": {
      "provenance": [],
      "authorship_tag": "ABX9TyOZjoHrpK5C4abGiVIcmQr+",
      "include_colab_link": true
    },
    "kernelspec": {
      "name": "python3",
      "display_name": "Python 3"
    },
    "language_info": {
      "name": "python"
    }
  },
  "cells": [
    {
      "cell_type": "markdown",
      "metadata": {
        "id": "view-in-github",
        "colab_type": "text"
      },
      "source": [
        "<a href=\"https://colab.research.google.com/github/Shiva091111/PRODIGY_DS_03/blob/main/Untitled0.ipynb\" target=\"_parent\"><img src=\"https://colab.research.google.com/assets/colab-badge.svg\" alt=\"Open In Colab\"/></a>"
      ]
    },
    {
      "cell_type": "code",
      "execution_count": null,
      "metadata": {
        "id": "zbQCQbSGqh8x"
      },
      "outputs": [],
      "source": [
        "\n",
        "#Open In Colab\n",
        "\n",
        "import numpy as np\n",
        "import pandas as pd\n",
        "import matplotlib.pyplot as plt\n",
        "import seaborn as sns\n",
        "import warnings\n",
        "warnings.filterwarnings('ignore')\n",
        "%matplotlib inline\n",
        "df = pd.read_csv(\"/content/bank-additional-full.csv\",delimiter=';')\n",
        "df_obj= df.select_dtypes(include='object').columns\n",
        "\n",
        "df_num= df.select_dtypes(exclude='object').columns\n",
        "for feature in df_num:\n",
        "    sns.histplot(x=feature,data=df,bins=25,kde=True,color='#5f366e')\n",
        "    plt.show()\n",
        "for feature in df_obj:\n",
        "    plt.figure(figsize=(8,3))\n",
        "    plt.title(f\"Count plot of {feature}\")\n",
        "    sns.countplot(x=feature,data=df,palette='viridis')\n",
        "    plt.xticks(rotation=40)\n",
        "    plt.show()\n",
        "\n",
        "\n",
        "\n",
        "\n",
        "\n",
        "\n",
        "\n",
        "\n",
        "\n",
        "\n",
        "\n",
        "\n",
        "\n",
        "\n",
        "\n",
        "\n",
        "\n",
        "\n",
        "\n",
        "\n",
        "\n",
        "\n",
        "\n"
      ]
    }
  ]
}